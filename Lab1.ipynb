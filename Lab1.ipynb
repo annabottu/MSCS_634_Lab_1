{
 "cells": [
  {
   "cell_type": "markdown",
   "metadata": {},
   "source": [
    "## Lab 1: Data Visualization, Data Preprocessing, and Statistical Analysis\n",
    "Anna Bottu\n",
    "\n",
    "MSCS-634: Advanced Big Data and Data Mining"
   ]
  },
  {
   "cell_type": "markdown",
   "metadata": {},
   "source": [
    "# Step 1: Data Collection"
   ]
  },
  {
   "cell_type": "code",
   "execution_count": 38,
   "metadata": {},
   "outputs": [],
   "source": [
    "import pandas as pd\n",
    "import matplotlib.pyplot as plt\n",
    "import seaborn as sns\n"
   ]
  },
  {
   "cell_type": "code",
   "execution_count": 4,
   "metadata": {},
   "outputs": [
    {
     "data": {
      "text/html": [
       "<div>\n",
       "<style scoped>\n",
       "    .dataframe tbody tr th:only-of-type {\n",
       "        vertical-align: middle;\n",
       "    }\n",
       "\n",
       "    .dataframe tbody tr th {\n",
       "        vertical-align: top;\n",
       "    }\n",
       "\n",
       "    .dataframe thead th {\n",
       "        text-align: right;\n",
       "    }\n",
       "</style>\n",
       "<table border=\"1\" class=\"dataframe\">\n",
       "  <thead>\n",
       "    <tr style=\"text-align: right;\">\n",
       "      <th></th>\n",
       "      <th>date</th>\n",
       "      <th>datetime</th>\n",
       "      <th>cash_type</th>\n",
       "      <th>card</th>\n",
       "      <th>money</th>\n",
       "      <th>coffee_name</th>\n",
       "    </tr>\n",
       "  </thead>\n",
       "  <tbody>\n",
       "    <tr>\n",
       "      <th>0</th>\n",
       "      <td>2024-03-01</td>\n",
       "      <td>2024-03-01 10:15:50.520</td>\n",
       "      <td>card</td>\n",
       "      <td>ANON-0000-0000-0001</td>\n",
       "      <td>38.7</td>\n",
       "      <td>Latte</td>\n",
       "    </tr>\n",
       "    <tr>\n",
       "      <th>1</th>\n",
       "      <td>2024-03-01</td>\n",
       "      <td>2024-03-01 12:19:22.539</td>\n",
       "      <td>card</td>\n",
       "      <td>ANON-0000-0000-0002</td>\n",
       "      <td>38.7</td>\n",
       "      <td>Hot Chocolate</td>\n",
       "    </tr>\n",
       "    <tr>\n",
       "      <th>2</th>\n",
       "      <td>2024-03-01</td>\n",
       "      <td>2024-03-01 12:20:18.089</td>\n",
       "      <td>card</td>\n",
       "      <td>ANON-0000-0000-0002</td>\n",
       "      <td>38.7</td>\n",
       "      <td>Hot Chocolate</td>\n",
       "    </tr>\n",
       "    <tr>\n",
       "      <th>3</th>\n",
       "      <td>2024-03-01</td>\n",
       "      <td>2024-03-01 13:46:33.006</td>\n",
       "      <td>card</td>\n",
       "      <td>ANON-0000-0000-0003</td>\n",
       "      <td>28.9</td>\n",
       "      <td>Americano</td>\n",
       "    </tr>\n",
       "    <tr>\n",
       "      <th>4</th>\n",
       "      <td>2024-03-01</td>\n",
       "      <td>2024-03-01 13:48:14.626</td>\n",
       "      <td>card</td>\n",
       "      <td>ANON-0000-0000-0004</td>\n",
       "      <td>38.7</td>\n",
       "      <td>Latte</td>\n",
       "    </tr>\n",
       "  </tbody>\n",
       "</table>\n",
       "</div>"
      ],
      "text/plain": [
       "         date                 datetime cash_type                 card  money  \\\n",
       "0  2024-03-01  2024-03-01 10:15:50.520      card  ANON-0000-0000-0001   38.7   \n",
       "1  2024-03-01  2024-03-01 12:19:22.539      card  ANON-0000-0000-0002   38.7   \n",
       "2  2024-03-01  2024-03-01 12:20:18.089      card  ANON-0000-0000-0002   38.7   \n",
       "3  2024-03-01  2024-03-01 13:46:33.006      card  ANON-0000-0000-0003   28.9   \n",
       "4  2024-03-01  2024-03-01 13:48:14.626      card  ANON-0000-0000-0004   38.7   \n",
       "\n",
       "     coffee_name  \n",
       "0          Latte  \n",
       "1  Hot Chocolate  \n",
       "2  Hot Chocolate  \n",
       "3      Americano  \n",
       "4          Latte  "
      ]
     },
     "execution_count": 4,
     "metadata": {},
     "output_type": "execute_result"
    }
   ],
   "source": [
    "df = pd.read_csv(\"index_1.csv\")\n",
    "df.head()"
   ]
  },
  {
   "cell_type": "markdown",
   "metadata": {},
   "source": [
    "# Step 2: Data Visualization"
   ]
  },
  {
   "cell_type": "code",
   "execution_count": 15,
   "metadata": {},
   "outputs": [
    {
     "data": {
      "image/png": "[encoded data removed]",
      "text/plain": [
       "<Figure size 720x432 with 1 Axes>"
      ]
     },
     "metadata": {
      "needs_background": "light"
     },
     "output_type": "display_data"
    }
   ],
   "source": [
    "plt.figure(figsize=(10, 6))\n",
    "sns.countplot(y='coffee_name', data=df, order=df['coffee_name'].value_counts().index)\n",
    "plt.title('Most Popular Drinks Sold')\n",
    "plt.xlabel('Number of Purchases')\n",
    "plt.ylabel('Drink Type')\n",
    "plt.show()\n"
   ]
  },
  {
   "cell_type": "code",
   "execution_count": 29,
   "metadata": {},
   "outputs": [],
   "source": [
    "#first we need to convert to datatime\n",
    "df['date'] = pd.to_datetime(df['date'])"
   ]
  },
  {
   "cell_type": "code",
   "execution_count": 30,
   "metadata": {},
   "outputs": [],
   "source": [
    "#then we are going to create a new column for month name\n",
    "df['Month'] = df['date'].dt.strftime('%B')\n"
   ]
  },
  {
   "cell_type": "code",
   "execution_count": 31,
   "metadata": {},
   "outputs": [],
   "source": [
    "#order the months\n",
    "month_order = ['January', 'February', 'March', 'April', 'May', 'June', \n",
    "               'July', 'August', 'September', 'October', 'November', 'December']"
   ]
  },
  {
   "cell_type": "code",
   "execution_count": 32,
   "metadata": {},
   "outputs": [
    {
     "data": {
      "image/png": "[encoded data removed]",
      "text/plain": [
       "<Figure size 1008x504 with 1 Axes>"
      ]
     },
     "metadata": {
      "needs_background": "light"
     },
     "output_type": "display_data"
    }
   ],
   "source": [
    "#creates a figure for the plot\n",
    "plt.figure(figsize=(14, 7))\n",
    "#using seaborn's countplot which counts how many times each coffee type appears\n",
    "sns.countplot(data=df, x='Month', hue='coffee_name', order=month_order)\n",
    "#title\n",
    "plt.title('Most Popular Drinks by Month')\n",
    "# x-axis label\n",
    "plt.xlabel('Month')\n",
    "#y-axis label\n",
    "plt.ylabel('Number of Purchases')\n",
    "#rotates the month names to it can fit\n",
    "plt.xticks(rotation=45)\n",
    "#puts the key outside of the figure\n",
    "plt.legend(title='Drink Type', bbox_to_anchor=(1.05, 1), loc='upper left')\n",
    "plt.show()"
   ]
  },
  {
   "cell_type": "markdown",
   "metadata": {},
   "source": [
    "# Step 3: Data Preprocessing"
   ]
  },
  {
   "cell_type": "markdown",
   "metadata": {},
   "source": [
    "Data Cleaning\n",
    "\n",
    "There were 29 missing values in the card column"
   ]
  },
  {
   "cell_type": "code",
   "execution_count": 18,
   "metadata": {
    "scrolled": true
   },
   "outputs": [
    {
     "data": {
      "text/plain": [
       "date           0\n",
       "datetime       0\n",
       "cash_type      0\n",
       "card           0\n",
       "money          0\n",
       "coffee_name    0\n",
       "dtype: int64"
      ]
     },
     "execution_count": 18,
     "metadata": {},
     "output_type": "execute_result"
    }
   ],
   "source": [
    "df.isnull().sum()"
   ]
  },
  {
   "cell_type": "code",
   "execution_count": 19,
   "metadata": {},
   "outputs": [],
   "source": [
    "#fills empty places with N/A in the card column\n",
    "df['card'] = df['card'].fillna('N/A')"
   ]
  },
  {
   "cell_type": "markdown",
   "metadata": {},
   "source": [
    "Outlier Detection and Removal using IQR"
   ]
  },
  {
   "cell_type": "code",
   "execution_count": 33,
   "metadata": {},
   "outputs": [
    {
     "name": "stdout",
     "output_type": "stream",
     "text": [
      "Q1 (25%): 27.92\n",
      "Q3 (75%): 35.76\n",
      "IQR: 7.839999999999996\n"
     ]
    }
   ],
   "source": [
    "#Calculate IQR for the money column\n",
    "Q1 = df['money'].quantile(0.25)\n",
    "Q3 = df['money'].quantile(0.75)\n",
    "IQR = Q3 - Q1\n",
    "\n",
    "print(\"Q1 (25%):\", Q1)\n",
    "print(\"Q3 (75%):\", Q3)\n",
    "print(\"IQR:\", IQR)"
   ]
  },
  {
   "cell_type": "code",
   "execution_count": 34,
   "metadata": {},
   "outputs": [
    {
     "name": "stdout",
     "output_type": "stream",
     "text": [
      "Lower bound: 16.160000000000007\n",
      "Upper bound: 47.519999999999996\n"
     ]
    }
   ],
   "source": [
    "#Define upper and lower bounds\n",
    "lower_bound = Q1 - 1.5 * IQR\n",
    "upper_bound = Q3 + 1.5 * IQR\n",
    "\n",
    "print(\"Lower bound:\", lower_bound)\n",
    "print(\"Upper bound:\", upper_bound)\n"
   ]
  },
  {
   "cell_type": "code",
   "execution_count": 35,
   "metadata": {},
   "outputs": [
    {
     "name": "stdout",
     "output_type": "stream",
     "text": [
      "Identified outliers:\n",
      "Empty DataFrame\n",
      "Columns: [coffee_name, money]\n",
      "Index: []\n"
     ]
    }
   ],
   "source": [
    "#Identify outliers\n",
    "outliers = df[(df['money'] < lower_bound) | (df['money'] > upper_bound)]\n",
    "print(\"Identified outliers:\")\n",
    "print(outliers[['coffee_name', 'money']])\n"
   ]
  },
  {
   "cell_type": "markdown",
   "metadata": {},
   "source": [
    "As seen above there are no outliers in the money column so there is no need to remove any rows. The dataset remains unchanged after this step"
   ]
  },
  {
   "cell_type": "markdown",
   "metadata": {},
   "source": [
    "Data Reduction"
   ]
  },
  {
   "cell_type": "code",
   "execution_count": 36,
   "metadata": {},
   "outputs": [
    {
     "name": "stdout",
     "output_type": "stream",
     "text": [
      "Shape before sampling: (3636, 7)\n",
      "Shape after sampling: (500, 7)\n"
     ]
    }
   ],
   "source": [
    "#sampling by number of rows\n",
    "df_sampled = df.sample(n=500, random_state=42)\n",
    "print(\"Shape before sampling:\", df.shape)\n",
    "print(\"Shape after sampling:\", df_sampled.shape)"
   ]
  },
  {
   "cell_type": "code",
   "execution_count": 37,
   "metadata": {},
   "outputs": [
    {
     "name": "stdout",
     "output_type": "stream",
     "text": [
      "Columns before dropping: ['date', 'datetime', 'cash_type', 'card', 'money', 'coffee_name', 'Month']\n",
      "Columns after dropping: ['date', 'datetime', 'money', 'coffee_name', 'Month']\n"
     ]
    }
   ],
   "source": [
    "#dimension elimination by dropping less relvant columns\n",
    "df_dimension_reduced = df_sampled.drop(columns=['cash_type', 'card'])\n",
    "print(\"Columns before dropping:\", df_sampled.columns.tolist())\n",
    "print(\"Columns after dropping:\", df_dimension_reduced.columns.tolist())"
   ]
  },
  {
   "cell_type": "markdown",
   "metadata": {},
   "source": [
    "Data Scaling and Discretization"
   ]
  },
  {
   "cell_type": "code",
   "execution_count": 40,
   "metadata": {},
   "outputs": [],
   "source": [
    "#create a copy\n",
    "df_scaled = df.copy()"
   ]
  },
  {
   "cell_type": "code",
   "execution_count": 41,
   "metadata": {},
   "outputs": [],
   "source": [
    "#calculate the min and max of the money column\n",
    "min_value = df['money'].min()\n",
    "max_value = df['money'].max()"
   ]
  },
  {
   "cell_type": "code",
   "execution_count": 42,
   "metadata": {},
   "outputs": [],
   "source": [
    "#add the min-max scaling formula\n",
    "df_scaled['money_minmax'] = (df['money'] - min_value) / (max_value - min_value)\n"
   ]
  },
  {
   "cell_type": "code",
   "execution_count": 43,
   "metadata": {},
   "outputs": [
    {
     "name": "stdout",
     "output_type": "stream",
     "text": [
      "Before scaling:\n",
      "   money\n",
      "0   38.7\n",
      "1   38.7\n",
      "2   38.7\n",
      "3   28.9\n",
      "4   38.7\n",
      "After Min-Max scaling:\n",
      "   money  money_minmax\n",
      "0   38.7      0.940585\n",
      "1   38.7      0.940585\n",
      "2   38.7      0.940585\n",
      "3   28.9      0.492687\n",
      "4   38.7      0.940585\n"
     ]
    }
   ],
   "source": [
    "#print the before and after scaling\n",
    "print(\"Before scaling:\")\n",
    "print(df[['money']].head())\n",
    "\n",
    "print(\"After Min-Max scaling:\")\n",
    "print(df_scaled[['money', 'money_minmax']].head())"
   ]
  },
  {
   "cell_type": "code",
   "execution_count": 44,
   "metadata": {},
   "outputs": [],
   "source": [
    "#create a copy\n",
    "df_zScore = df.copy()"
   ]
  },
  {
   "cell_type": "code",
   "execution_count": 45,
   "metadata": {},
   "outputs": [],
   "source": [
    "#mean and standard deviation of money column\n",
    "mean = df['money'].mean()\n",
    "standardDeviation = df['money'].std()"
   ]
  },
  {
   "cell_type": "code",
   "execution_count": 47,
   "metadata": {},
   "outputs": [],
   "source": [
    "#Z-score formula\n",
    "df_zScore['money_zscore'] = (df['money'] - mean) / standardDeviation"
   ]
  },
  {
   "cell_type": "code",
   "execution_count": 48,
   "metadata": {},
   "outputs": [
    {
     "name": "stdout",
     "output_type": "stream",
     "text": [
      "After Z-score standardization:\n",
      "   money  money_zscore\n",
      "0   38.7      1.413261\n",
      "1   38.7      1.413261\n",
      "2   38.7      1.413261\n",
      "3   28.9     -0.578639\n",
      "4   38.7      1.413261\n"
     ]
    }
   ],
   "source": [
    "#print before and after\n",
    "print(\"After Z-score standardization:\")\n",
    "print(df_zScore[['money', 'money_zscore']].head())"
   ]
  },
  {
   "cell_type": "markdown",
   "metadata": {},
   "source": [
    "# Step 4: Statistical Analysis"
   ]
  },
  {
   "cell_type": "code",
   "execution_count": 49,
   "metadata": {},
   "outputs": [
    {
     "name": "stdout",
     "output_type": "stream",
     "text": [
      "<class 'pandas.core.frame.DataFrame'>\n",
      "RangeIndex: 3636 entries, 0 to 3635\n",
      "Data columns (total 7 columns):\n",
      " #   Column       Non-Null Count  Dtype         \n",
      "---  ------       --------------  -----         \n",
      " 0   date         3636 non-null   datetime64[ns]\n",
      " 1   datetime     3636 non-null   datetime64[ns]\n",
      " 2   cash_type    3636 non-null   object        \n",
      " 3   card         3636 non-null   object        \n",
      " 4   money        3636 non-null   float64       \n",
      " 5   coffee_name  3636 non-null   object        \n",
      " 6   Month        3636 non-null   object        \n",
      "dtypes: datetime64[ns](2), float64(1), object(4)\n",
      "memory usage: 199.0+ KB\n",
      "None\n"
     ]
    }
   ],
   "source": [
    "print(df.info())"
   ]
  },
  {
   "cell_type": "code",
   "execution_count": 50,
   "metadata": {},
   "outputs": [
    {
     "name": "stdout",
     "output_type": "stream",
     "text": [
      "             money\n",
      "count  3636.000000\n",
      "mean     31.746859\n",
      "std       4.919926\n",
      "min      18.120000\n",
      "25%      27.920000\n",
      "50%      32.820000\n",
      "75%      35.760000\n",
      "max      40.000000\n"
     ]
    }
   ],
   "source": [
    "print(df.describe())"
   ]
  },
  {
   "cell_type": "code",
   "execution_count": 51,
   "metadata": {},
   "outputs": [
    {
     "name": "stdout",
     "output_type": "stream",
     "text": [
      "Minimum: 18.12\n",
      "Maximum: 40.0\n",
      "Mean: 31.746859185917987\n",
      "Median: 32.82\n",
      "Mode: 35.76\n"
     ]
    }
   ],
   "source": [
    "#minimum value\n",
    "min_value = df['money'].min()\n",
    "print(\"Minimum:\", min_value)\n",
    "\n",
    "#maximum value\n",
    "max_value = df['money'].max()\n",
    "print(\"Maximum:\", max_value)\n",
    "\n",
    "#mean value\n",
    "mean_value = df['money'].mean()\n",
    "print(\"Mean:\", mean_value)\n",
    "\n",
    "#median value\n",
    "median_value = df['money'].median()\n",
    "print(\"Median:\", median_value)\n",
    "\n",
    "#mode value\n",
    "mode_value = df['money'].mode()[0]  \n",
    "print(\"Mode:\", mode_value)"
   ]
  },
  {
   "cell_type": "code",
   "execution_count": 52,
   "metadata": {},
   "outputs": [
    {
     "name": "stdout",
     "output_type": "stream",
     "text": [
      "Range: 21.88\n",
      "Q1: 27.92\n",
      "Q2: 32.82\n",
      "Q3: 35.76\n",
      "Interquartile Range (IQR): 7.839999999999996\n",
      "Variance: 24.205669912489583\n",
      "Standard Deviation: 4.919925803555333\n"
     ]
    }
   ],
   "source": [
    "#gets the range (max - min)\n",
    "range_value = df['money'].max() - df['money'].min()\n",
    "print(\"Range:\", range_value)\n",
    "\n",
    "#gets the quartiles\n",
    "Q1 = df['money'].quantile(0.25)\n",
    "Q2 = df['money'].quantile(0.50) \n",
    "Q3 = df['money'].quantile(0.75)\n",
    "\n",
    "print(\"Q1:\", Q1)\n",
    "print(\"Q2:\", Q2)\n",
    "print(\"Q3:\", Q3)\n",
    "\n",
    "# gets the interquartile Range (IQR)\n",
    "IQR = Q3 - Q1\n",
    "print(\"Interquartile Range (IQR):\", IQR)\n",
    "\n",
    "#gets the variance\n",
    "variance = df['money'].var()\n",
    "print(\"Variance:\", variance)\n",
    "\n",
    "#gets standard deviation\n",
    "std_dev = df['money'].std()\n",
    "print(\"Standard Deviation:\", std_dev)\n"
   ]
  },
  {
   "cell_type": "code",
   "execution_count": 54,
   "metadata": {},
   "outputs": [
    {
     "name": "stdout",
     "output_type": "stream",
     "text": [
      "       money\n",
      "money    1.0\n"
     ]
    }
   ],
   "source": [
    "#correlation analysis\n",
    "correlation = df.corr()\n",
    "#print\n",
    "print(correlation)"
   ]
  },
  {
   "cell_type": "code",
   "execution_count": null,
   "metadata": {},
   "outputs": [],
   "source": []
  }
 ],
 "metadata": {
  "kernelspec": {
   "display_name": "Python 3",
   "language": "python",
   "name": "python3"
  },
  "language_info": {
   "codemirror_mode": {
    "name": "ipython",
    "version": 3
   },
   "file_extension": ".py",
   "mimetype": "text/x-python",
   "name": "python",
   "nbconvert_exporter": "python",
   "pygments_lexer": "ipython3",
   "version": "3.8.5"
  }
 },
 "nbformat": 4,
 "nbformat_minor": 4
}
